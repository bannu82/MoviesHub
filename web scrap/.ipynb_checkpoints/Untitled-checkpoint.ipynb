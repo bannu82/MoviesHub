{
 "cells": [
  {
   "cell_type": "code",
   "execution_count": 2,
   "id": "2902e436-8734-4e3c-873a-306fa2bd80c0",
   "metadata": {},
   "outputs": [],
   "source": [
    "from bs4 import BeautifulSoup\n",
    "import pandas as pd\n",
    "import requests\n",
    "import re"
   ]
  },
  {
   "cell_type": "code",
   "execution_count": 11,
   "id": "87a7dd0d-83e4-416b-add2-8829b3a3c159",
   "metadata": {},
   "outputs": [
    {
     "name": "stdout",
     "output_type": "stream",
     "text": [
      "\n",
      "Pass 1  : _"
     ]
    }
   ],
   "source": [
    "Title=[]\n",
    "Time = []\n",
    "Type = []\n",
    "Duration =[]\n",
    "ImgLink = []\n",
    "\n",
    "movieDesc =[]\n",
    "Released =[]\n",
    "Genre = []\n",
    "Casts = []\n",
    "Country = []\n",
    "Production=[]\n",
    "IMDB_rating = []\n",
    "Cover_bg = []\n",
    "\n",
    "\n",
    "type = \"movie\"\n",
    "quality = \"all\"\n",
    "year = \"all\"\n",
    "country = \"all\"\n",
    "genre =\"all\"\n",
    "\n",
    "headers = {'User-Agent': 'Mozilla/5.0 (Windows NT 10.0; Win64; x64) AppleWebKit/537.36 (KHTML, like Gecko) Chrome/111.0.0.0 Safari/537.36'}\n",
    "\n",
    "# 700 , 800 Done\n",
    "for i in range( 100): # 1340 movie , 1785 all\n",
    "\n",
    "    url = f\"https://moviesjoy.is/filter?type={type}&quality={quality}&release_year={year}&genre={genre}&country={country}&page={i+1}\"\n",
    "    webpage=requests.get(url, headers=headers).text\n",
    "    print(\"\\nPass\",i+1,' :' ,end=' ')\n",
    "    \n",
    "    soup= BeautifulSoup(webpage , 'lxml')\n",
    "    \n",
    "    movie = soup.find_all('div' , class_='flw-item')\n",
    "    \n",
    "    for i in movie:\n",
    "        \n",
    "        try:\n",
    "            Movie_Link =(i.find('a').get('href'))\n",
    "            Movi_Url=(f\"https://moviesjoy.is{Movie_Link}\") \n",
    "            moviePage=requests.get(Movi_Url, headers=headers).text\n",
    "            soup1 = BeautifulSoup(moviePage , 'lxml')\n",
    "        except:\n",
    "            continue\n",
    "        \n",
    "        Title.append(i.find('a').get('title'))\n",
    "        Time.append(i.find(class_='fdi-item').text.strip())\n",
    "        Type.append(i.find(class_='fdi-type').text.strip())\n",
    "        Duration.append(i.find(class_='fdi-duration').text.strip())\n",
    "        ImgLink.append(i.find('div', class_='film-poster').find('img').get('data-src'))\n",
    "        \n",
    "        \n",
    "        try :\n",
    "            style =soup1.find('div',class_='cover_follow')['style']\n",
    "            Cover_bg.append(re.search('url\\((.*)\\)' , style)[1])\n",
    "            \n",
    "        except:\n",
    "            print(\"no\")\n",
    "        \n",
    "        try:\n",
    "            movieDesc.append(soup1.find('div' , class_='description').text.strip())        \n",
    "        except:\n",
    "            movieDesc.append(\"Na\")\n",
    "        \n",
    "        \n",
    "        try:\n",
    "            IMDB_rating.append(re.split('IMDB:',soup1.find('button',class_='btn-imdb').text)[1].strip(' '))\n",
    "        except:\n",
    "            IMDB_rating.append(\"Na\")\n",
    "        \n",
    "        data_div = str(soup1.find_all('div' ,class_='row-line'))\n",
    "        \n",
    "        try:\n",
    "            Genre.append(re.findall('genre/([^\"]+)' ,data_div))        \n",
    "        except:\n",
    "            Genre.append(\"Na\")\n",
    "        \n",
    "        try:\n",
    "            Casts.append(re.findall('cast/([^\"]+)' ,data_div))        \n",
    "        except:\n",
    "            Casts.append(\"Na\")\n",
    "        \n",
    "        try:\n",
    "            Released.append(re.split('Released:\\s</strong></span>([^<]+)' ,str(data_div))[1].strip(\" \").strip('\\n'))\n",
    "        except:\n",
    "            Released.append('Na')\n",
    "        \n",
    "        try:\n",
    "            Production.append(re.findall('/production/([^\"]+)',data_div)) \n",
    "        except: \n",
    "            Production.append('Na')\n",
    "            \n",
    "        \n",
    "        try:\n",
    "            Country.append(re.split('/country/([^\"]+)',data_div)[1])\n",
    "        except:\n",
    "            Country.append(\"Na\")\n",
    "        \n",
    "        print(\"_\",end='')\n",
    "        break\n",
    "    break"
   ]
  },
  {
   "cell_type": "code",
   "execution_count": null,
   "id": "f973c0c7-0c30-43d4-b2b7-593654dd5c0f",
   "metadata": {},
   "outputs": [],
   "source": [
    "columns = ['Title' ,'Time' ,'Type', 'Duration', 'Img' ,'CoverImg','movieDesc', 'Released' ,'Genre' ,'Casts' ,'Country', 'Production' ,'IMDB_rating']\n",
    "pair = [pair for pair in zip(Title ,Time ,Type ,Duration, ImgLink ,Cover_bg, movieDesc ,Released ,Genre ,Casts, Country ,Production ,IMDB_rating)]\n",
    "new_df = pd.DataFrame(pair, columns=columns )\n",
    "new_df.shape\n",
    "# df.iloc[-167]"
   ]
  },
  {
   "cell_type": "code",
   "execution_count": null,
   "id": "1a0e8211-9d2b-46d5-a551-0f68a48ea529",
   "metadata": {},
   "outputs": [],
   "source": []
  },
  {
   "cell_type": "code",
   "execution_count": null,
   "id": "35020961-df92-4967-950a-6cfc8b147a26",
   "metadata": {},
   "outputs": [],
   "source": []
  }
 ],
 "metadata": {
  "kernelspec": {
   "display_name": "Python 3 (ipykernel)",
   "language": "python",
   "name": "python3"
  },
  "language_info": {
   "codemirror_mode": {
    "name": "ipython",
    "version": 3
   },
   "file_extension": ".py",
   "mimetype": "text/x-python",
   "name": "python",
   "nbconvert_exporter": "python",
   "pygments_lexer": "ipython3",
   "version": "3.11.4"
  },
  "widgets": {
   "application/vnd.jupyter.widget-state+json": {
    "state": {},
    "version_major": 2,
    "version_minor": 0
   }
  }
 },
 "nbformat": 4,
 "nbformat_minor": 5
}
