{
 "cells": [
  {
   "cell_type": "code",
   "execution_count": 25,
   "id": "6f7873f5-513c-47e0-b212-e58a7c2fcf1e",
   "metadata": {},
   "outputs": [],
   "source": [
    "import pandas as pd\n",
    "import sqlite3"
   ]
  },
  {
   "cell_type": "code",
   "execution_count": 26,
   "id": "d57cc317-81b0-4aef-9031-cfb4c281f8e6",
   "metadata": {},
   "outputs": [],
   "source": [
    "df = pd.read_csv('movie.csv')"
   ]
  },
  {
   "cell_type": "code",
   "execution_count": 27,
   "id": "e54418c6-ed6f-4cde-8bec-aa58f9c1d0d7",
   "metadata": {},
   "outputs": [
    {
     "data": {
      "text/plain": [
       "(160, 14)"
      ]
     },
     "execution_count": 27,
     "metadata": {},
     "output_type": "execute_result"
    }
   ],
   "source": [
    "df.shape"
   ]
  },
  {
   "cell_type": "code",
   "execution_count": 28,
   "id": "d24a740e-d32c-4f6c-bc70-2c9d93b5d24b",
   "metadata": {},
   "outputs": [],
   "source": [
    "conn = sqlite3.connect('movies.db')"
   ]
  },
  {
   "cell_type": "code",
   "execution_count": 29,
   "id": "b4eeb664-46de-44c6-947c-8675665b72ca",
   "metadata": {},
   "outputs": [],
   "source": [
    "cursor = conn.cursor()"
   ]
  },
  {
   "cell_type": "code",
   "execution_count": 30,
   "id": "44488c21-25ba-45a4-84a8-fe8bb8f0c58e",
   "metadata": {},
   "outputs": [
    {
     "data": {
      "text/plain": [
       "160"
      ]
     },
     "execution_count": 30,
     "metadata": {},
     "output_type": "execute_result"
    }
   ],
   "source": [
    "\n",
    "df.to_sql('movies',conn ,if_exists='replace',index=True)\n"
   ]
  },
  {
   "cell_type": "code",
   "execution_count": null,
   "id": "3b9e4502-a8fa-4064-891a-4db8d0675d38",
   "metadata": {},
   "outputs": [],
   "source": []
  },
  {
   "cell_type": "code",
   "execution_count": null,
   "id": "190156a9-5ee5-4b58-97fa-588349c4ad4f",
   "metadata": {},
   "outputs": [],
   "source": []
  },
  {
   "cell_type": "code",
   "execution_count": null,
   "id": "938a0ac0-a9c5-44f3-8494-09abbb8bdcf0",
   "metadata": {},
   "outputs": [],
   "source": []
  },
  {
   "cell_type": "code",
   "execution_count": 31,
   "id": "1dbfe534-7151-4e2c-93fe-63ef6816fae1",
   "metadata": {},
   "outputs": [],
   "source": [
    "conn.close()"
   ]
  },
  {
   "cell_type": "code",
   "execution_count": 3,
   "id": "c81ea8b9-c09e-47fa-9499-81689402f628",
   "metadata": {},
   "outputs": [],
   "source": [
    "\n",
    "import pandas as pd\n",
    "columns = ['Title' ,'Time' ,'Type', 'Duration', 'Link' ,'movieDesc', 'Released' ,'Genre' ,'Casts' ,'Country', 'Production' ,'IMDB_rating']\n",
    "# pair = [pair for pair in zip(Title ,Time ,Type ,Duration, Link ,movieDesc ,Released ,Genre ,Casts, Country ,Production ,IMDB_rating)]\n",
    "df = pd.DataFrame( columns=columns )\n",
    "\n"
   ]
  },
  {
   "cell_type": "code",
   "execution_count": 4,
   "id": "cec10f4c-f86a-45f9-b3a6-8a7eca85812c",
   "metadata": {},
   "outputs": [
    {
     "data": {
      "text/html": [
       "<div>\n",
       "<style scoped>\n",
       "    .dataframe tbody tr th:only-of-type {\n",
       "        vertical-align: middle;\n",
       "    }\n",
       "\n",
       "    .dataframe tbody tr th {\n",
       "        vertical-align: top;\n",
       "    }\n",
       "\n",
       "    .dataframe thead th {\n",
       "        text-align: right;\n",
       "    }\n",
       "</style>\n",
       "<table border=\"1\" class=\"dataframe\">\n",
       "  <thead>\n",
       "    <tr style=\"text-align: right;\">\n",
       "      <th></th>\n",
       "      <th>Title</th>\n",
       "      <th>Time</th>\n",
       "      <th>Type</th>\n",
       "      <th>Duration</th>\n",
       "      <th>Link</th>\n",
       "      <th>movieDesc</th>\n",
       "      <th>Released</th>\n",
       "      <th>Genre</th>\n",
       "      <th>Casts</th>\n",
       "      <th>Country</th>\n",
       "      <th>Production</th>\n",
       "      <th>IMDB_rating</th>\n",
       "    </tr>\n",
       "  </thead>\n",
       "  <tbody>\n",
       "  </tbody>\n",
       "</table>\n",
       "</div>"
      ],
      "text/plain": [
       "Empty DataFrame\n",
       "Columns: [Title, Time, Type, Duration, Link, movieDesc, Released, Genre, Casts, Country, Production, IMDB_rating]\n",
       "Index: []"
      ]
     },
     "execution_count": 4,
     "metadata": {},
     "output_type": "execute_result"
    }
   ],
   "source": [
    "df"
   ]
  },
  {
   "cell_type": "code",
   "execution_count": null,
   "id": "2752bb99-f51e-4d6f-a23a-c7391a2ba3b6",
   "metadata": {},
   "outputs": [],
   "source": []
  },
  {
   "cell_type": "code",
   "execution_count": 1,
   "id": "2312634e-6dac-49c9-a685-ea792476ee7e",
   "metadata": {},
   "outputs": [],
   "source": []
  },
  {
   "cell_type": "code",
   "execution_count": 8,
   "id": "69e69d6e-5cdb-4a5d-963d-4c93b73d7170",
   "metadata": {},
   "outputs": [
    {
     "name": "stdout",
     "output_type": "stream",
     "text": [
      "________________________________\n",
      "________________________________\n",
      "________________________________\n",
      "________________________________\n",
      "________________________________\n",
      "16.069681644439697sec\n"
     ]
    }
   ],
   "source": [
    "import time\n",
    "start = time.time()\n",
    "for i in range(5):\n",
    "    for j in range(32):\n",
    "        time.sleep(0.1)\n",
    "        print(\"_\",end=\"\" )\n",
    "        \n",
    "    end = time.time()\n",
    "    print()\n",
    "    \n",
    "print(f\"{(end - start)}sec\")\n",
    "        \n"
   ]
  },
  {
   "cell_type": "code",
   "execution_count": 24,
   "id": "7ce3daf9-ad5f-4194-96fa-f0e66840539d",
   "metadata": {},
   "outputs": [
    {
     "name": "stdout",
     "output_type": "stream",
     "text": [
      "Iteration 160/160 completed. Estimated remaining time: 0.00 seconds\n",
      "Total time taken: 16.41 seconds\n"
     ]
    }
   ],
   "source": [
    "import time\n",
    "import sys\n",
    "\n",
    "total_iterations = 5 * 32  # Total number of iterations in both loops\n",
    "start = time.time()  # Start the timer\n",
    "\n",
    "for i in range(5):\n",
    "    for j in range(32):\n",
    "        # Simulate work\n",
    "        time.sleep(0.1)\n",
    "\n",
    "        # Calculate the current iteration count\n",
    "        current_iteration = (i * 32) + j + 1  # i starts from 0, so +1 to avoid zero\n",
    "        \n",
    "        # Calculate time taken so far\n",
    "        elapsed_time = time.time() - start\n",
    "        \n",
    "        # Estimate total time needed based on current progress\n",
    "        estimated_total_time = (elapsed_time / current_iteration) * total_iterations\n",
    "        \n",
    "        # Calculate remaining time\n",
    "        remaining_time = estimated_total_time - elapsed_time\n",
    "        \n",
    "        # Print progress and estimated remaining time (using carriage return)\n",
    "        sys.stdout.write(f\"\\rIteration {current_iteration}/{total_iterations} completed. Estimated remaining time: {remaining_time:.2f} seconds\")\n",
    "        sys.stdout.flush()  # Flush the output to ensure it prints immediately\n",
    "\n",
    "print()  # Print a newline after the loop finishes\n",
    "\n",
    "# Total time taken\n",
    "end = time.time()\n",
    "print(f\"Total time taken: {end - start:.2f} seconds\")\n"
   ]
  },
  {
   "cell_type": "code",
   "execution_count": null,
   "id": "1194d6de-aa33-442a-abe2-7690d081b649",
   "metadata": {},
   "outputs": [],
   "source": []
  }
 ],
 "metadata": {
  "kernelspec": {
   "display_name": "Python 3 (ipykernel)",
   "language": "python",
   "name": "python3"
  },
  "language_info": {
   "codemirror_mode": {
    "name": "ipython",
    "version": 3
   },
   "file_extension": ".py",
   "mimetype": "text/x-python",
   "name": "python",
   "nbconvert_exporter": "python",
   "pygments_lexer": "ipython3",
   "version": "3.11.4"
  },
  "widgets": {
   "application/vnd.jupyter.widget-state+json": {
    "state": {},
    "version_major": 2,
    "version_minor": 0
   }
  }
 },
 "nbformat": 4,
 "nbformat_minor": 5
}
